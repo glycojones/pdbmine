{
 "cells": [
  {
   "cell_type": "markdown",
   "metadata": {},
   "source": [
    "# Installation of dependencies"
   ]
  },
  {
   "cell_type": "code",
   "execution_count": 1,
   "metadata": {
    "id": "hdRbl1-OMd15"
   },
   "outputs": [
    {
     "name": "stdout",
     "output_type": "stream",
     "text": [
      "Requirement already satisfied: gemmi in ./venv/lib/python3.12/site-packages (0.7.1)\n",
      "Requirement already satisfied: wget in ./venv/lib/python3.12/site-packages (3.2)\n",
      "Requirement already satisfied: matplotlib in ./venv/lib/python3.12/site-packages (3.10.3)\n",
      "Requirement already satisfied: tqdm in ./venv/lib/python3.12/site-packages (4.67.1)\n",
      "Requirement already satisfied: ipywidgets in ./venv/lib/python3.12/site-packages (8.1.7)\n",
      "Requirement already satisfied: contourpy>=1.0.1 in ./venv/lib/python3.12/site-packages (from matplotlib) (1.3.2)\n",
      "Requirement already satisfied: cycler>=0.10 in ./venv/lib/python3.12/site-packages (from matplotlib) (0.12.1)\n",
      "Requirement already satisfied: fonttools>=4.22.0 in ./venv/lib/python3.12/site-packages (from matplotlib) (4.58.4)\n",
      "Requirement already satisfied: kiwisolver>=1.3.1 in ./venv/lib/python3.12/site-packages (from matplotlib) (1.4.8)\n",
      "Requirement already satisfied: numpy>=1.23 in ./venv/lib/python3.12/site-packages (from matplotlib) (2.3.1)\n",
      "Requirement already satisfied: packaging>=20.0 in ./venv/lib/python3.12/site-packages (from matplotlib) (25.0)\n",
      "Requirement already satisfied: pillow>=8 in ./venv/lib/python3.12/site-packages (from matplotlib) (11.2.1)\n",
      "Requirement already satisfied: pyparsing>=2.3.1 in ./venv/lib/python3.12/site-packages (from matplotlib) (3.2.3)\n",
      "Requirement already satisfied: python-dateutil>=2.7 in ./venv/lib/python3.12/site-packages (from matplotlib) (2.9.0.post0)\n",
      "Requirement already satisfied: comm>=0.1.3 in ./venv/lib/python3.12/site-packages (from ipywidgets) (0.2.2)\n",
      "Requirement already satisfied: ipython>=6.1.0 in ./venv/lib/python3.12/site-packages (from ipywidgets) (9.3.0)\n",
      "Requirement already satisfied: traitlets>=4.3.1 in ./venv/lib/python3.12/site-packages (from ipywidgets) (5.14.3)\n",
      "Requirement already satisfied: widgetsnbextension~=4.0.14 in ./venv/lib/python3.12/site-packages (from ipywidgets) (4.0.14)\n",
      "Requirement already satisfied: jupyterlab_widgets~=3.0.15 in ./venv/lib/python3.12/site-packages (from ipywidgets) (3.0.15)\n",
      "Requirement already satisfied: decorator in ./venv/lib/python3.12/site-packages (from ipython>=6.1.0->ipywidgets) (5.2.1)\n",
      "Requirement already satisfied: ipython-pygments-lexers in ./venv/lib/python3.12/site-packages (from ipython>=6.1.0->ipywidgets) (1.1.1)\n",
      "Requirement already satisfied: jedi>=0.16 in ./venv/lib/python3.12/site-packages (from ipython>=6.1.0->ipywidgets) (0.19.2)\n",
      "Requirement already satisfied: matplotlib-inline in ./venv/lib/python3.12/site-packages (from ipython>=6.1.0->ipywidgets) (0.1.7)\n",
      "Requirement already satisfied: pexpect>4.3 in ./venv/lib/python3.12/site-packages (from ipython>=6.1.0->ipywidgets) (4.9.0)\n",
      "Requirement already satisfied: prompt_toolkit<3.1.0,>=3.0.41 in ./venv/lib/python3.12/site-packages (from ipython>=6.1.0->ipywidgets) (3.0.51)\n",
      "Requirement already satisfied: pygments>=2.4.0 in ./venv/lib/python3.12/site-packages (from ipython>=6.1.0->ipywidgets) (2.19.2)\n",
      "Requirement already satisfied: stack_data in ./venv/lib/python3.12/site-packages (from ipython>=6.1.0->ipywidgets) (0.6.3)\n",
      "Requirement already satisfied: six>=1.5 in ./venv/lib/python3.12/site-packages (from python-dateutil>=2.7->matplotlib) (1.17.0)\n",
      "Requirement already satisfied: parso<0.9.0,>=0.8.4 in ./venv/lib/python3.12/site-packages (from jedi>=0.16->ipython>=6.1.0->ipywidgets) (0.8.4)\n",
      "Requirement already satisfied: ptyprocess>=0.5 in ./venv/lib/python3.12/site-packages (from pexpect>4.3->ipython>=6.1.0->ipywidgets) (0.7.0)\n",
      "Requirement already satisfied: wcwidth in ./venv/lib/python3.12/site-packages (from prompt_toolkit<3.1.0,>=3.0.41->ipython>=6.1.0->ipywidgets) (0.2.13)\n",
      "Requirement already satisfied: executing>=1.2.0 in ./venv/lib/python3.12/site-packages (from stack_data->ipython>=6.1.0->ipywidgets) (2.2.0)\n",
      "Requirement already satisfied: asttokens>=2.1.0 in ./venv/lib/python3.12/site-packages (from stack_data->ipython>=6.1.0->ipywidgets) (3.0.0)\n",
      "Requirement already satisfied: pure-eval in ./venv/lib/python3.12/site-packages (from stack_data->ipython>=6.1.0->ipywidgets) (0.2.3)\n",
      "Note: you may need to restart the kernel to use updated packages.\n"
     ]
    }
   ],
   "source": [
    "pip install gemmi wget matplotlib tqdm ipywidgets"
   ]
  },
  {
   "cell_type": "markdown",
   "metadata": {},
   "source": [
    "# PDB mirror update (structures only)"
   ]
  },
  {
   "cell_type": "code",
   "execution_count": 2,
   "metadata": {},
   "outputs": [
    {
     "name": "stdout",
     "output_type": "stream",
     "text": [
      "Log file:  /home/olico/repositories/mmCIF_PDB_2025-07-02.log\n",
      "finished\n"
     ]
    }
   ],
   "source": [
    "%%sh\n",
    "\n",
    "MIRRORDIR=/home/olico/repositories/mmCIF_PDB\n",
    "LOGFILE=/home/olico/repositories/mmCIF_PDB_`date +\"%Y-%m-%d\"`.log\n",
    "RSYNC=rsync\n",
    "echo \"Log file: \" $LOGFILE\n",
    "SERVER=rsync.ebi.ac.uk::pub/databases/pdb\n",
    "PORT=873\n",
    "\n",
    "mkdir -p $MIRRORDIR\n",
    "\n",
    "${RSYNC} -rlpt -v -z --delete --port=$PORT ${SERVER}/data/structures/divided/mmCIF/ $MIRRORDIR > $LOGFILE 2>/dev/null\n",
    "echo \"finished\" "
   ]
  },
  {
   "cell_type": "markdown",
   "metadata": {},
   "source": [
    "# Reading all structures"
   ]
  },
  {
   "cell_type": "code",
   "execution_count": 4,
   "metadata": {
    "id": "Zl-2e54Cvb0e"
   },
   "outputs": [
    {
     "data": {
      "application/vnd.jupyter.widget-view+json": {
       "model_id": "d9c76db6187a4e629c53a1924120a8cf",
       "version_major": 2,
       "version_minor": 0
      },
      "text/plain": [
       "0it [00:00, ?it/s]"
      ]
     },
     "metadata": {},
     "output_type": "display_data"
    },
    {
     "name": "stdout",
     "output_type": "stream",
     "text": [
      "Failed: /home/olico/repositories/mmCIF_PDB/ol/5olg.cif.gz | Error: not an integer: \n",
      "Failed: /home/olico/repositories/mmCIF_PDB/pv/7pvv.cif.gz | Error: not an integer: \n",
      "\n",
      "✅ Done! Loaded 238266 files, Failed 2 files\n",
      "Summary: Loaded 238266 files, Failed 2 files\n"
     ]
    }
   ],
   "source": [
    "import gemmi\n",
    "from tqdm.notebook import tqdm\n",
    "\n",
    "loaded_count = 0\n",
    "failed_count = 0\n",
    "\n",
    "for file_path in tqdm(gemmi.CoorFileWalk(\"/home/olico/repositories/mmCIF_PDB\")) :\n",
    "  try:\n",
    "    structure = gemmi.read_structure(file_path)\n",
    "    loaded_count += 1\n",
    "  except Exception as e:\n",
    "    print(f\"Failed: {file_path} | Error: {e}\")\n",
    "    failed_count += 1\n",
    "\n",
    "# prints it without running out of memory\n",
    "print(f\"\\n Done! Loaded {loaded_count} files, Failed {failed_count} files\")\n",
    "\n",
    "print(f\"Summary: Loaded {loaded_count} files, Failed {failed_count} files\")\n"
   ]
  },
  {
   "cell_type": "markdown",
   "metadata": {},
   "source": [
    "# Disulfide bonds"
   ]
  },
  {
   "cell_type": "code",
   "execution_count": 4,
   "metadata": {},
   "outputs": [
    {
     "data": {
      "application/vnd.jupyter.widget-view+json": {
       "model_id": "addc979aff304c64be0914f93ae426a5",
       "version_major": 2,
       "version_minor": 0
      },
      "text/plain": [
       "0it [00:00, ?it/s]"
      ]
     },
     "metadata": {},
     "output_type": "display_data"
    },
    {
     "name": "stdout",
     "output_type": "stream",
     "text": [
      "10000 disulfide bonds found so far...\n",
      "20000 disulfide bonds found so far...\n",
      "30000 disulfide bonds found so far...\n",
      "40000 disulfide bonds found so far...\n",
      "50000 disulfide bonds found so far...\n",
      "60000 disulfide bonds found so far...\n",
      "70000 disulfide bonds found so far...\n",
      "80000 disulfide bonds found so far...\n",
      "90000 disulfide bonds found so far...\n",
      "100000 disulfide bonds found so far...\n",
      "110000 disulfide bonds found so far...\n",
      "120000 disulfide bonds found so far...\n",
      "130000 disulfide bonds found so far...\n",
      "140000 disulfide bonds found so far...\n",
      "150000 disulfide bonds found so far...\n",
      "160000 disulfide bonds found so far...\n",
      "170000 disulfide bonds found so far...\n",
      "180000 disulfide bonds found so far...\n",
      "190000 disulfide bonds found so far...\n",
      "200000 disulfide bonds found so far...\n",
      "210000 disulfide bonds found so far...\n",
      "220000 disulfide bonds found so far...\n",
      "230000 disulfide bonds found so far...\n",
      "240000 disulfide bonds found so far...\n",
      "Failed: /home/olico/repositories/mmCIF_PDB/ol/5olg.cif.gz | Error: not an integer: \n",
      "250000 disulfide bonds found so far...\n",
      "260000 disulfide bonds found so far...\n",
      "Failed: /home/olico/repositories/mmCIF_PDB/pv/7pvv.cif.gz | Error: not an integer: \n",
      "270000 disulfide bonds found so far...\n",
      "280000 disulfide bonds found so far...\n",
      "290000 disulfide bonds found so far...\n",
      "300000 disulfide bonds found so far...\n",
      "310000 disulfide bonds found so far...\n",
      "320000 disulfide bonds found so far...\n",
      "330000 disulfide bonds found so far...\n",
      "340000 disulfide bonds found so far...\n",
      "350000 disulfide bonds found so far...\n",
      "360000 disulfide bonds found so far...\n",
      "370000 disulfide bonds found so far...\n",
      "380000 disulfide bonds found so far...\n",
      "390000 disulfide bonds found so far...\n",
      "400000 disulfide bonds found so far...\n",
      "410000 disulfide bonds found so far...\n",
      "420000 disulfide bonds found so far...\n",
      "430000 disulfide bonds found so far...\n",
      "440000 disulfide bonds found so far...\n",
      "Done! Found 446277 disulfide bonds across PDB. Failed files: 2\n"
     ]
    }
   ],
   "source": [
    "import gemmi\n",
    "from tqdm.notebook import tqdm \n",
    "import matplotlib.pyplot as plt\n",
    "import numpy as np \n",
    "\n",
    "# list to store disulfide bond distances\n",
    "disulfide_lengths = []\n",
    "\n",
    "# counter for failures\n",
    "failed_count = 0\n",
    "\n",
    "# loop through structure files\n",
    "for path in tqdm(gemmi.CoorFileWalk(\"/home/olico/repositories/mmCIF_PDB\")):\n",
    "    try:\n",
    "        structure = gemmi.read_structure(path)\n",
    "\n",
    "        # get bond annotations \n",
    "        conn_list = structure.connections\n",
    "        for conn in conn_list:\n",
    "            if conn.type == gemmi.ConnectionType.Disulf:\n",
    "                # save bond length\n",
    "                disulfide_lengths.append(conn.reported_distance)\n",
    "\n",
    "                # printing updates on bonds found to show its working\n",
    "                if len(disulfide_lengths) % 10000 == 0:\n",
    "                    print(f\"{len(disulfide_lengths)} disulfide bonds found so far...\")\n",
    "\n",
    "    except Exception as e:\n",
    "        print(f\"Failed: {path} | Error: {e}\")\n",
    "        failed_count += 1\n",
    "\n",
    "print(f\"Done! Found {len(disulfide_lengths)} disulfide bonds across PDB. Failed files: {failed_count}\")\n"
   ]
  },
  {
   "cell_type": "markdown",
   "metadata": {},
   "source": [
    "# Plotting histogram of disulfide bonds"
   ]
  },
  {
   "cell_type": "code",
   "execution_count": 6,
   "metadata": {},
   "outputs": [
    {
     "data": {
      "image/png": "[encoded data removed]",
      "text/plain": [
       "<Figure size 1000x500 with 1 Axes>"
      ]
     },
     "metadata": {},
     "output_type": "display_data"
    },
    {
     "name": "stdout",
     "output_type": "stream",
     "text": [
      "0.587\n",
      "129.739\n"
     ]
    },
    {
     "data": {
      "image/png": "[encoded data removed]",
      "text/plain": [
       "<Figure size 1000x500 with 1 Axes>"
      ]
     },
     "metadata": {},
     "output_type": "display_data"
    },
    {
     "name": "stdout",
     "output_type": "stream",
     "text": [
      "Filtered disulfide bonds (1.9–2.2 Å): 433997\n",
      "Total disulfide bonds found: 446277\n"
     ]
    }
   ],
   "source": [
    "import matplotlib.pyplot as plt\n",
    "import numpy as np\n",
    "\n",
    "plt.figure(figsize=(10, 5))\n",
    "\n",
    "plt.title(\"Distribution of Disulfide Bond Lengths\", fontsize=15)\n",
    "plt.hist(disulfide_lengths, bins=300, color='green', edgecolor='black')\n",
    "\n",
    "# calculate mean and std\n",
    "mean = np.mean(disulfide_lengths)\n",
    "std = np.std(disulfide_lengths)\n",
    "\n",
    "# add mean and std to plot \n",
    "plt.axvline(mean, color='orange', linestyle='dashed', linewidth=3, label=f'Mean = {mean:.2f}')\n",
    "plt.axvline(mean - std, color='orange', linestyle='dashed', linewidth=1, label=f'± Std Dev')\n",
    "plt.axvline(mean + std, color='orange', linestyle='dashed', linewidth=1)\n",
    "\n",
    "plt.xlabel(\"Disulfide Bond Length (Å)\")\n",
    "plt.ylabel(\"Frequency\")\n",
    "\n",
    "# Set axis ranges\n",
    "plt.xlim(0, 4) \n",
    "plt.ylim(0, 10000)  \n",
    "\n",
    "plt.legend()\n",
    "plt.grid(True)\n",
    "plt.tight_layout()\n",
    "\n",
    "# save\n",
    "plt.savefig('anomalous_bonds_histogram.png')\n",
    "\n",
    "plt.show()\n",
    "\n",
    "\n",
    "print(min(disulfide_lengths))\n",
    "print(max(disulfide_lengths))\n",
    "# shows the min length is 0.587 and the max is 129.739 = outliers\n",
    "\n",
    "# filtering data so histogram is not a block\n",
    "filtered_bonds = [d for d in disulfide_lengths if 1.9 <= d <= 2.2]\n",
    "\n",
    "# calculate mean and std\n",
    "mean = np.mean(filtered_bonds)\n",
    "std = np.std(filtered_bonds)\n",
    "\n",
    "plt.figure(figsize=(10, 5))\n",
    "plt.hist(filtered_bonds, bins=200, color='green', edgecolor='black')\n",
    "\n",
    "# Add mean and std\n",
    "plt.axvline(mean, color='orange', linestyle='dashed', linewidth=2, label=f'Mean = {mean:.2f}')\n",
    "plt.axvline(mean - std, color='orange', linestyle='dashed', linewidth=1, label='± Std Dev')\n",
    "plt.axvline(mean + std, color='orange', linestyle='dashed', linewidth=1)\n",
    "\n",
    "plt.title(\"Distribution of Disulfide Bond Lengths (Filtered)\", fontsize=14)\n",
    "plt.xlabel(\"Disulfide Bond Length (Å)\")\n",
    "plt.ylabel(\"Frequency\")\n",
    "plt.legend()\n",
    "plt.grid(True)\n",
    "plt.tight_layout()\n",
    "plt.ylim(0, 55000)\n",
    "plt.show()\n",
    "\n",
    "# how many disulfide bonds are in the filter\n",
    "print(f\"Filtered disulfide bonds (1.9–2.2 Å): {len(filtered_bonds)}\")\n",
    "\n",
    "# how many disulfide bonds are there altogether\n",
    "print(f\"Total disulfide bonds found: {len(disulfide_lengths)}\")\n",
    "\n"
   ]
  },
  {
   "cell_type": "markdown",
   "metadata": {},
   "source": [
    "# Making a dictionary and list of anomalous disulfide bonds"
   ]
  },
  {
   "cell_type": "code",
   "execution_count": 3,
   "metadata": {},
   "outputs": [
    {
     "data": {
      "application/vnd.jupyter.widget-view+json": {
       "model_id": "e4970f1515f34918b09ae649dcf609e5",
       "version_major": 2,
       "version_minor": 0
      },
      "text/plain": [
       "0it [00:00, ?it/s]"
      ]
     },
     "metadata": {},
     "output_type": "display_data"
    },
    {
     "name": "stdout",
     "output_type": "stream",
     "text": [
      "1000 disulfide anomalies found so far...\n",
      "2000 disulfide anomalies found so far...\n",
      "3000 disulfide anomalies found so far...\n",
      "4000 disulfide anomalies found so far...\n",
      "5000 disulfide anomalies found so far...\n",
      "6000 disulfide anomalies found so far...\n",
      "Failed: /home/olico/repositories/mmCIF_PDB/ol/5olg.cif.gz | Error: not an integer: \n",
      "7000 disulfide anomalies found so far...\n",
      "Failed: /home/olico/repositories/mmCIF_PDB/pv/7pvv.cif.gz | Error: not an integer: \n",
      "8000 disulfide anomalies found so far...\n",
      "9000 disulfide anomalies found so far...\n",
      "10000 disulfide anomalies found so far...\n",
      "11000 disulfide anomalies found so far...\n",
      "12000 disulfide anomalies found so far...\n",
      "Done!\n",
      "Total anomalous disulfide bonds: 12280\n",
      "Failed counts: 2\n"
     ]
    }
   ],
   "source": [
    "import gemmi\n",
    "import json\n",
    "from tqdm.notebook import tqdm\n",
    "\n",
    "anomalous_disulfides = []\n",
    "failed_count = 0\n",
    "\n",
    "# extract disulfide bonds\n",
    "for path in tqdm(gemmi.CoorFileWalk(\"/home/olico/repositories/mmCIF_PDB\")): \n",
    "    try:\n",
    "        structure = gemmi.read_structure(path)\n",
    "        conn_list = structure.connections\n",
    "        pdb_id = structure.name.upper()\n",
    "\n",
    "        for conn in conn_list:\n",
    "            if conn.type == gemmi.ConnectionType.Disulf:\n",
    "                if conn.reported_distance < 1.9 or conn.reported_distance > 2.2:\n",
    "                    bond = {\n",
    "                        \"pdb_id\": pdb_id,\n",
    "                        \"resolution\" : structure.resolution,\n",
    "                        \"residue1\": {\n",
    "                            \"chain\"  : conn.partner1.chain_name,\n",
    "                            \"residue\": conn.partner1.res_id.name,\n",
    "                            \"number\" : str (conn.partner1.res_id.seqid),\n",
    "                            \"atom\"   : conn.partner1.atom_name                            \n",
    "                        },\n",
    "                        \"residue2\": {\n",
    "                            \"chain\"  : conn.partner2.chain_name,\n",
    "                            \"residue\": conn.partner2.res_id.name,\n",
    "                            \"number\" : str (conn.partner2.res_id.seqid),\n",
    "                            \"atom\"   : conn.partner2.atom_name\n",
    "                        },\n",
    "                        \"distance\": conn.reported_distance\n",
    "                    }\n",
    "                    anomalous_disulfides.append(bond)\n",
    "\n",
    "                    if len(anomalous_disulfides) % 1000 == 0:\n",
    "                        print(f\"{len(anomalous_disulfides)} disulfide anomalies found so far...\")\n",
    "\n",
    "\n",
    "\n",
    "    except Exception as e:\n",
    "        print(f\"Failed: {path} | Error: {e}\")\n",
    "        failed_count += 1\n",
    "\n",
    "# Save to JSON\n",
    "with open(\"anomalous_disulfides.json\", \"w\") as f:\n",
    "    json.dump(anomalous_disulfides, f, indent=2)\n",
    "\n",
    "print(\"Done!\")\n",
    "print(f\"Total anomalous disulfide bonds: {len(anomalous_disulfides)}\")\n",
    "print(f\"Failed counts: {failed_count}\")"
   ]
  },
  {
   "cell_type": "markdown",
   "metadata": {},
   "source": [
    "# Making a table for anomalous disulfide bonds"
   ]
  },
  {
   "cell_type": "code",
   "execution_count": 4,
   "metadata": {},
   "outputs": [
    {
     "name": "stdout",
     "output_type": "stream",
     "text": [
      "Table saved as anomalous_disulfides_table.csv\n"
     ]
    }
   ],
   "source": [
    "import pandas as pd\n",
    "\n",
    "table_data = [\n",
    "    {\n",
    "        \"pdb_id\": bond[\"pdb_id\"],\n",
    "        \"resolution\": bond[\"resolution\"],\n",
    "        \"chain1\": bond[\"residue1\"][\"chain\"],\n",
    "        \"res1\": bond[\"residue1\"][\"residue\"],\n",
    "        \"resnum1\": bond[\"residue1\"][\"number\"],\n",
    "        \"atom1\": bond[\"residue1\"][\"atom\"],\n",
    "        \"chain2\": bond[\"residue2\"][\"chain\"],\n",
    "        \"res2\": bond[\"residue2\"][\"residue\"],\n",
    "        \"resnum2\": bond[\"residue2\"][\"number\"],\n",
    "        \"atom2\": bond[\"residue2\"][\"atom\"],\n",
    "        \"distance\": bond[\"distance\"]\n",
    "    }\n",
    "    for bond in anomalous_disulfides\n",
    "]\n",
    "\n",
    "# Create dataframe and save to CSV\n",
    "df = pd.DataFrame(table_data)\n",
    "df.to_csv(\"anomalous_disulfides_table.csv\", index=False)\n",
    "\n",
    "print(\"Table saved as anomalous_disulfides_table.csv\")"
   ]
  },
  {
   "cell_type": "markdown",
   "metadata": {},
   "source": [
    "# Making a JSON file for multiple conformation anomalies"
   ]
  },
  {
   "cell_type": "code",
   "execution_count": 25,
   "metadata": {},
   "outputs": [
    {
     "data": {
      "application/vnd.jupyter.widget-view+json": {
       "model_id": "7b4cf5e542564f129a60d07beed60098",
       "version_major": 2,
       "version_minor": 0
      },
      "text/plain": [
       "  0%|          | 0/12280 [00:00<?, ?it/s]"
      ]
     },
     "metadata": {},
     "output_type": "display_data"
    },
    {
     "name": "stdout",
     "output_type": "stream",
     "text": [
      "Missing residue in 1deu\n",
      "Missing residue in 1deu\n",
      "Missing residue in 7kn5\n",
      "Missing residue in 1mhw\n",
      "Missing residue in 1mhw\n",
      "Missing residue in 1tal\n",
      "Missing residue in 2ull\n",
      "Missing residue in 3urc\n",
      "Missing residue in 3ure\n",
      "Missing residue in 3ure\n",
      "Found 692 anomalies with alternate conformations under 2Å resolution.\n"
     ]
    }
   ],
   "source": [
    "import gemmi\n",
    "import json\n",
    "import os\n",
    "from tqdm.notebook import tqdm\n",
    "\n",
    "# Load anomalies\n",
    "with open(\"anomalous_disulfides.json\") as f:\n",
    "    anomalies = json.load(f)\n",
    "\n",
    "filtered_anomalies = []\n",
    "\n",
    "for entry in tqdm(anomalies):\n",
    "    # Skip if resolution is 0 or > 2.0 Å\n",
    "    if entry[\"resolution\"] is None or entry[\"resolution\"] == 0 or entry[\"resolution\"] >= 2.0:\n",
    "        continue\n",
    "\n",
    "    pdb_id = entry[\"pdb_id\"].lower()\n",
    "    folder = pdb_id[1:3]\n",
    "    file_path = f\"/home/olico/repositories/mmCIF_PDB/{folder}/{pdb_id}.cif.gz\"\n",
    "\n",
    "    if not os.path.exists(file_path):\n",
    "        print(f\"File not found: {file_path}\")\n",
    "        continue\n",
    "\n",
    "    try:\n",
    "        structure = gemmi.read_structure(file_path)\n",
    "        model = structure[0]\n",
    "\n",
    "        chain1 = model[entry[\"residue1\"][\"chain\"]]\n",
    "        chain2 = model[entry[\"residue2\"][\"chain\"]]\n",
    "\n",
    "\n",
    "        # Find residue 1 \n",
    "        res1 = None\n",
    "        for res in chain1:\n",
    "            if str(res.seqid.num) == entry[\"residue1\"][\"number\"]:\n",
    "                res1 = res\n",
    "                break\n",
    "\n",
    "        res2 = None\n",
    "        for res in chain2:\n",
    "            if str(res.seqid.num) == entry[\"residue2\"][\"number\"]:\n",
    "                res2 = res\n",
    "                break\n",
    "\n",
    "        if res1 is None or res2 is None:\n",
    "            print(f\"Missing residue in {pdb_id}\")\n",
    "            continue\n",
    "\n",
    "        atom1_name = entry[\"residue1\"][\"atom\"].strip()\n",
    "        atom2_name = entry[\"residue2\"][\"atom\"].strip()\n",
    "\n",
    "        # Collect altloc identifiers for atoms matching the atom name\n",
    "        altlocs1 = {atom.altloc for atom in res1 if atom.name == atom1_name}\n",
    "        altlocs2 = {atom.altloc for atom in res2 if atom.name == atom2_name}\n",
    "\n",
    "        # Remove empty altlocs ('' means no alternate conformation)\n",
    "        altlocs1.discard('')\n",
    "        altlocs2.discard('')\n",
    "\n",
    "        # Discard the null character '\\x00'\n",
    "        altlocs1.discard('\\x00') \n",
    "        altlocs2.discard('\\x00') \n",
    "\n",
    "        # Keep entry if either atom has alternate conformations\n",
    "        if altlocs1 or altlocs2:\n",
    "            filtered_anomalies.append(entry)\n",
    "\n",
    "    except Exception as e:\n",
    "        print(f\"Error processing {pdb_id}: {e}\")\n",
    "\n",
    "print(f\"Found {len(filtered_anomalies)} anomalies with alternate conformations under 2Å resolution.\")\n",
    "\n",
    "# Save \n",
    "with open(\"filtered_altconf_anomalies.json\", \"w\") as f_out:\n",
    "    json.dump(filtered_anomalies, f_out, indent=2)"
   ]
  },
  {
   "cell_type": "markdown",
   "metadata": {},
   "source": [
    "# Checking Altlocs and Occupancies"
   ]
  },
  {
   "cell_type": "code",
   "execution_count": 2,
   "metadata": {},
   "outputs": [
    {
     "data": {
      "application/vnd.jupyter.widget-view+json": {
       "model_id": "ad0de50716c542c08b8bdb505639ac98",
       "version_major": 2,
       "version_minor": 0
      },
      "text/plain": [
       "  0%|          | 0/692 [00:00<?, ?it/s]"
      ]
     },
     "metadata": {},
     "output_type": "display_data"
    },
    {
     "name": "stdout",
     "output_type": "stream",
     "text": [
      "Successfully adjusted 692 anomalies.\n"
     ]
    }
   ],
   "source": [
    "import gemmi\n",
    "import json\n",
    "import os\n",
    "from tqdm.notebook import tqdm\n",
    "\n",
    "# Load multiple conformation anomalies \n",
    "with open(\"filtered_altconf_anomalies.json\") as f:\n",
    "    anomalies = json.load(f)\n",
    "\n",
    "# Modify list\n",
    "occupancy_anomalies = []\n",
    "\n",
    "for entry in tqdm(anomalies):\n",
    "    pdb_id = entry[\"pdb_id\"].lower()\n",
    "    folder = pdb_id[1:3]\n",
    "    file_path = f\"/home/olico/repositories/mmCIF_PDB/{folder}/{pdb_id}.cif.gz\"\n",
    "\n",
    "\n",
    "    if not os.path.exists(file_path):\n",
    "        print(f\"File not found for {pdb_id}: {file_path}\")\n",
    "        continue\n",
    "\n",
    "    try:\n",
    "        structure = gemmi.read_structure(file_path)\n",
    "        model = structure[0]\n",
    "\n",
    "        # Extract details \n",
    "        chain1_id = entry[\"residue1\"][\"chain\"]\n",
    "        res1_num = entry[\"residue1\"][\"number\"]\n",
    "        atom1_name = entry[\"residue1\"][\"atom\"].strip()\n",
    "\n",
    "        chain2_id = entry[\"residue2\"][\"chain\"]\n",
    "        res2_num = entry[\"residue2\"][\"number\"]\n",
    "        atom2_name = entry[\"residue2\"][\"atom\"].strip()\n",
    "\n",
    "        chain1 = model[chain1_id]\n",
    "        chain2 = model[chain2_id]\n",
    "        \n",
    "        # Find residue 1\n",
    "        res1 = next((res for res in chain1 if str(res.seqid.num) == res1_num), None)\n",
    "        # Find residue 2\n",
    "        res2 = next((res for res in chain2 if str(res.seqid.num) == res2_num), None)\n",
    "\n",
    "        if res1 is None or res2 is None:\n",
    "            print(f\"Residue missing for {pdb_id}. Skipping.\")\n",
    "            continue\n",
    "\n",
    "        \n",
    "        # Collect altloc and occupancy for atom 1\n",
    "        atom1_details = []\n",
    "        for atom in res1:\n",
    "            if atom.name == atom1_name:\n",
    "                # Discard empty string and null character \n",
    "                if atom.altloc and atom.altloc != '\\x00':\n",
    "                    atom1_details.append({\n",
    "                        \"altloc\": atom.altloc,\n",
    "                        \"occ\": round(atom.occ, 3)\n",
    "                    })\n",
    "                # record occupancy for atoms with no altlocs \n",
    "                elif not atom.altloc:\n",
    "                    atom1_details.append({\n",
    "                        \"altloc\": '',\n",
    "                        \"occ\": round(atom.occ, 3)\n",
    "                    })\n",
    "        \n",
    "        # Collect altloc and occupancy for atom 2\n",
    "        atom2_details = []\n",
    "        for atom in res2:\n",
    "            if atom.name == atom2_name:\n",
    "                if atom.altloc and atom.altloc != '\\x00':\n",
    "                    atom2_details.append({\n",
    "                        \"altloc\": atom.altloc,\n",
    "                        \"occ\": round(atom.occ, 3)\n",
    "                    })\n",
    "                elif not atom.altloc:\n",
    "                     atom2_details.append({\n",
    "                        \"altloc\": '',\n",
    "                        \"occ\": round(atom.occ, 3)\n",
    "                    })\n",
    "\n",
    "        # Adjust the original list\n",
    "        entry[\"residue1\"][\"altloc_details\"] = atom1_details\n",
    "        entry[\"residue2\"][\"altloc_details\"] = atom2_details\n",
    "        \n",
    "        occupancy_anomalies.append(entry)\n",
    "\n",
    "    except Exception as e:\n",
    "        print(f\"Error processing {pdb_id}: {e}\")\n",
    "\n",
    "print(f\"Successfully adjusted {len(occupancy_anomalies)} anomalies.\")\n",
    "\n",
    "# Save the adjusted anomalies\n",
    "with open(\"altloc_occupancy_anomalies.json\", \"w\") as f_out:\n",
    "    json.dump(occupancy_anomalies, f_out, indent=2)"
   ]
  },
  {
   "cell_type": "markdown",
   "metadata": {},
   "source": [
    "# Neighbour search "
   ]
  },
  {
   "cell_type": "code",
   "execution_count": 31,
   "metadata": {},
   "outputs": [
    {
     "data": {
      "application/vnd.jupyter.widget-view+json": {
       "model_id": "6571248be1544ddda6ea48ee64b10e90",
       "version_major": 2,
       "version_minor": 0
      },
      "text/plain": [
       "  0%|          | 0/692 [00:00<?, ?it/s]"
      ]
     },
     "metadata": {},
     "output_type": "display_data"
    },
    {
     "name": "stdout",
     "output_type": "stream",
     "text": [
      "Found 692 anomalies with neighbor search results.\n"
     ]
    }
   ],
   "source": [
    "import gemmi\n",
    "import json\n",
    "import os\n",
    "from tqdm.notebook import tqdm\n",
    "\n",
    "# The search radius for Gemmi's NeighborSearch\n",
    "SEARCH_RADIUS_ANGSTROMS = 3.5\n",
    "\n",
    "# Distance range for a disulfide bond\n",
    "DISULFIDE_DISTANCE_MIN = 1.9\n",
    "DISULFIDE_DISTANCE_MAX = 2.2\n",
    "\n",
    "# Ensure altloc is a clean string for JSON output\n",
    "def get_clean_altloc(altloc_char):\n",
    "    if altloc_char and altloc_char != '\\x00':\n",
    "        return altloc_char\n",
    "    return ''\n",
    "\n",
    "with open(\"altloc_occupancy_anomalies.json\", \"r\") as f:\n",
    "    anomalies = json.load(f)\n",
    "\n",
    "disulfide_suggestions = []\n",
    "\n",
    "for entry in tqdm(anomalies):\n",
    "    pdb_id = entry[\"pdb_id\"].lower()\n",
    "    folder = pdb_id[1:3]\n",
    "    file_path = f\"/home/olico/repositories/mmCIF_PDB/{folder}/{pdb_id}.cif.gz\"\n",
    "\n",
    "    if not os.path.exists(file_path):\n",
    "        print(f\"File not found for {pdb_id}: {file_path}. Skipping.\")\n",
    "        continue\n",
    "\n",
    "    try:\n",
    "        structure = gemmi.read_structure(file_path)\n",
    "        model = structure[0]\n",
    "        \n",
    "        ns = gemmi.NeighborSearch(model, structure.cell, SEARCH_RADIUS_ANGSTROMS).populate(include_h=False)\n",
    "        \n",
    "        best_suggestion = None\n",
    "        min_distance = float('inf')\n",
    "        \n",
    "        res1_info = entry[\"residue1\"]\n",
    "        res1_chain_id = res1_info[\"chain\"]\n",
    "        res1_num_str = res1_info[\"number\"]\n",
    "        res1_atom_name = res1_info[\"atom\"].strip()\n",
    "\n",
    "        res2_info = entry[\"residue2\"]\n",
    "        res2_chain_id = res2_info[\"chain\"]\n",
    "        res2_num_str = res2_info[\"number\"]\n",
    "        res2_atom_name = res2_info[\"atom\"].strip()\n",
    "        \n",
    "        # Find and process first SG atom \n",
    "        res1_obj = next((res for res in model[res1_chain_id] if str(res.seqid.num) == res1_num_str), None)\n",
    "        if res1_obj:\n",
    "            for atom1 in res1_obj:\n",
    "                if atom1.name == res1_atom_name:\n",
    "                    hits = ns.find_atoms(atom1.pos, '\\0', min_dist=0.1, radius=SEARCH_RADIUS_ANGSTROMS)\n",
    "                    \n",
    "                    for hit in hits:\n",
    "                        cra = hit.to_cra(model)\n",
    "                        hit_atom = cra.atom\n",
    "                        hit_chain = cra.chain\n",
    "                        hit_res = cra.residue\n",
    "                        \n",
    "                        if hit_atom.name == 'SG' and not (\n",
    "                            hit_chain.name == res1_chain_id and\n",
    "                            str(hit_res.seqid.num) == res1_num_str\n",
    "                        ):\n",
    "                            distance_sq = (\n",
    "                                (atom1.pos.x - hit_atom.pos.x)**2 +\n",
    "                                (atom1.pos.y - hit_atom.pos.y)**2 +\n",
    "                                (atom1.pos.z - hit_atom.pos.z)**2\n",
    "                            )\n",
    "                            distance = distance_sq**0.5\n",
    "                            \n",
    "                            if DISULFIDE_DISTANCE_MIN <= distance < DISULFIDE_DISTANCE_MAX:\n",
    "                                if distance < min_distance:\n",
    "                                    min_distance = distance\n",
    "                                    \n",
    "                                    best_suggestion = {\n",
    "                                        \"res1\": {\n",
    "                                            \"chain\": res1_chain_id,\n",
    "                                            \"number\": res1_num_str,\n",
    "                                            \"atom\": res1_atom_name,\n",
    "                                            \"altloc\": get_clean_altloc(atom1.altloc)\n",
    "                                        },\n",
    "                                        \"res2\": {\n",
    "                                            \"chain\": hit_chain.name,\n",
    "                                            \"number\": str(hit_res.seqid.num),\n",
    "                                            \"atom\": hit_atom.name,\n",
    "                                            \"altloc\": get_clean_altloc(hit_atom.altloc)\n",
    "                                        },\n",
    "                                        \"distance\": round(distance, 2)\n",
    "                                    }\n",
    "\n",
    "        # Find and process second SG atom\n",
    "        res2_obj = next((res for res in model[res2_chain_id] if str(res.seqid.num) == res2_num_str), None)\n",
    "        if res2_obj:\n",
    "            for atom2 in res2_obj:\n",
    "                if atom2.name == res2_atom_name:\n",
    "                    hits = ns.find_atoms(atom2.pos, '\\0', min_dist=0.1, radius=SEARCH_RADIUS_ANGSTROMS)\n",
    "                    \n",
    "                    for hit in hits:\n",
    "                        cra = hit.to_cra(model)\n",
    "                        hit_atom = cra.atom\n",
    "                        hit_chain = cra.chain\n",
    "                        hit_res = cra.residue\n",
    "                        \n",
    "                        if hit_atom.name == 'SG' and not (\n",
    "                            hit_chain.name == res2_chain_id and\n",
    "                            str(hit_res.seqid.num) == res2_num_str\n",
    "                        ):\n",
    "                            distance_sq = (\n",
    "                                (atom2.pos.x - hit_atom.pos.x)**2 +\n",
    "                                (atom2.pos.y - hit_atom.pos.y)**2 +\n",
    "                                (atom2.pos.z - hit_atom.pos.z)**2\n",
    "                            )\n",
    "                            distance = distance_sq**0.5\n",
    "                            \n",
    "                            if DISULFIDE_DISTANCE_MIN <= distance < DISULFIDE_DISTANCE_MAX:\n",
    "                                if distance < min_distance:\n",
    "                                    min_distance = distance\n",
    "                                    \n",
    "                                    best_suggestion = {\n",
    "                                        \"res1\": {\n",
    "                                            \"chain\": res2_chain_id,\n",
    "                                            \"number\": res2_num_str,\n",
    "                                            \"atom\": res2_atom_name,\n",
    "                                            \"altloc\": get_clean_altloc(atom2.altloc)\n",
    "                                        },\n",
    "                                        \"res2\": {\n",
    "                                            \"chain\": hit_chain.name,\n",
    "                                            \"number\": str(hit_res.seqid.num),\n",
    "                                            \"atom\": hit_atom.name,\n",
    "                                            \"altloc\": get_clean_altloc(hit_atom.altloc)\n",
    "                                        },\n",
    "                                        \"distance\": round(distance, 2)\n",
    "                                    }\n",
    "\n",
    "        # Final output entry\n",
    "        final_entry = {\n",
    "            \"pdb_id\": entry[\"pdb_id\"],\n",
    "            \"resolution\": entry[\"resolution\"],\n",
    "            \"original_disulfide\": {\n",
    "                \"res1\": entry[\"residue1\"],\n",
    "                \"res2\": entry[\"residue2\"],\n",
    "                \"distance\": round(entry[\"distance\"], 2)\n",
    "            }\n",
    "        }\n",
    "\n",
    "# Adding a notes area for the suggested more suitable cysteines found in the Neighbour Search\n",
    "        \n",
    "        if best_suggestion:\n",
    "            final_entry[\"suggested_disulfide\"] = best_suggestion\n",
    "            original_dist = round(entry[\"distance\"], 2)\n",
    "            suggested_dist = best_suggestion[\"distance\"]\n",
    "            \n",
    "            sug_res1 = best_suggestion[\"res1\"]\n",
    "            sug_res2 = best_suggestion[\"res2\"]\n",
    "            \n",
    "            final_entry[\"note\"] = (\n",
    "                f\"A better bond was suggested for CYS {sug_res1['chain']}:{sug_res1['number']} \"\n",
    "                f\"(altloc {sug_res1['altloc'] if sug_res1['altloc'] else 'non existent'}) with \"\n",
    "                f\"CYS {sug_res2['chain']}:{sug_res2['number']} \"\n",
    "                f\"(altloc {sug_res2['altloc'] if sug_res2['altloc'] else 'non existent'}), \"\n",
    "                f\"resulting in a closer distance of {suggested_dist}A compared to the \"\n",
    "                f\"original anomalous distance of {original_dist}A.\"\n",
    "            )\n",
    "\n",
    "\n",
    "\n",
    "        else:\n",
    "            final_entry[\"suggested_disulfide\"] = {}\n",
    "            final_entry[\"note\"] = \"No suitable partner found within the valid distance range.\"\n",
    "\n",
    "        disulfide_suggestions.append(final_entry)\n",
    "\n",
    "    except Exception as e:\n",
    "        print(f\"Error processing {pdb_id}: {e}\")\n",
    "\n",
    "print(f\"Found {len(disulfide_suggestions)} anomalies with neighbor search results.\")\n",
    "\n",
    "with open(\"disulfide_suggestions.json\", \"w\") as f_out:\n",
    "    json.dump(disulfide_suggestions, f_out, indent=2)"
   ]
  },
  {
   "cell_type": "markdown",
   "metadata": {},
   "source": [
    "# Histogram for suggested disulfides"
   ]
  },
  {
   "cell_type": "code",
   "execution_count": 3,
   "metadata": {},
   "outputs": [
    {
     "data": {
      "image/png": "[encoded data removed]",
      "text/plain": [
       "<Figure size 1000x500 with 1 Axes>"
      ]
     },
     "metadata": {},
     "output_type": "display_data"
    },
    {
     "name": "stdout",
     "output_type": "stream",
     "text": [
      "Total suggested bonds: 376\n",
      "Mean suggested bond length: 2.05 Å\n",
      "Standard deviation: 0.05 Å\n"
     ]
    }
   ],
   "source": [
    "import matplotlib.pyplot as plt\n",
    "import numpy as np\n",
    "import json\n",
    "\n",
    "# Load JSON file with suggested bonds\n",
    "with open(\"disulfide_suggestions.json\", \"r\") as f:\n",
    "    suggestions_data = json.load(f)\n",
    "\n",
    "# Extract the distances from the suggested bonds\n",
    "suggested_distances = []\n",
    "for entry in suggestions_data:\n",
    "    if \"suggested_disulfide\" in entry and entry[\"suggested_disulfide\"]:\n",
    "        suggested_distances.append(entry[\"suggested_disulfide\"][\"distance\"])\n",
    "\n",
    "# Calculate mean and standard deviation for the suggested distances\n",
    "mean = np.mean(suggested_distances)\n",
    "std = np.std(suggested_distances)\n",
    "\n",
    "# Create the histogram\n",
    "plt.figure(figsize=(10, 5))\n",
    "plt.hist(suggested_distances, bins=20, color='green', edgecolor='black')\n",
    "\n",
    "# Add mean and std \n",
    "plt.axvline(mean, color='orange', linestyle='dashed', linewidth=2, label=f'Mean = {mean:.2f} Å')\n",
    "plt.axvline(mean - std, color='orange', linestyle='dashed', linewidth=1, label='± Std Dev')\n",
    "plt.axvline(mean + std, color='orange', linestyle='dashed', linewidth=1)\n",
    "\n",
    "# Add labels and title\n",
    "plt.title(\"Distribution of Suggested Disulfide Bond Lengths\", fontsize=14)\n",
    "plt.xlabel(\"Suggested Disulfide Bond Length (Å)\")\n",
    "plt.ylabel(\"Frequency\")\n",
    "plt.legend()\n",
    "plt.grid(True)\n",
    "plt.tight_layout()\n",
    "\n",
    "# save\n",
    "plt.savefig('suggested_distances_histogram.png')\n",
    "\n",
    "plt.show()\n",
    "\n",
    "# Print summary information\n",
    "print(f\"Total suggested bonds: {len(suggested_distances)}\")\n",
    "print(f\"Mean suggested bond length: {mean:.2f} Å\")\n",
    "print(f\"Standard deviation: {std:.2f} Å\")\n"
   ]
  }
 ],
 "metadata": {
  "colab": {
   "authorship_tag": "ABX9TyMzh+E+9LrQ2JHj0kOQ96V9",
   "private_outputs": true,
   "provenance": []
  },
  "kernelspec": {
   "display_name": "Python 3 (ipykernel)",
   "language": "python",
   "name": "python3"
  },
  "language_info": {
   "codemirror_mode": {
    "name": "ipython",
    "version": 3
   },
   "file_extension": ".py",
   "mimetype": "text/x-python",
   "name": "python",
   "nbconvert_exporter": "python",
   "pygments_lexer": "ipython3",
   "version": "3.12.3"
  }
 },
 "nbformat": 4,
 "nbformat_minor": 4
}
