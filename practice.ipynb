{
 "cells": [
  {
   "cell_type": "markdown",
   "id": "20dff3aa",
   "metadata": {},
   "source": [
    "# Basic Python"
   ]
  },
  {
   "cell_type": "code",
   "execution_count": null,
   "id": "bd68e55b",
   "metadata": {},
   "outputs": [
    {
     "name": "stdout",
     "output_type": "stream",
     "text": [
      "blue\n",
      "red\n",
      "green\n",
      "yellow\n",
      "purple\n",
      "8\n",
      "\n",
      "Updated colour list with pink:\n",
      "blue\n",
      "red\n",
      "green\n",
      "yellow\n",
      "purple\n",
      "pink\n",
      "\n",
      "Fruit list:\n",
      "apple\n",
      "banana\n",
      "orange\n",
      "strawberry\n"
     ]
    }
   ],
   "source": [
    "list = [\"blue\", \"red\", \"green\", \"yellow\", \"purple\"]\n",
    "for colour in list :\n",
    "    print (colour)\n",
    "a = 5 + 3\n",
    "print(a)\n",
    "\n",
    "# New list of colours with an extra colour\n",
    "print(\"\\nUpdated colour list with pink:\")\n",
    "updated_colours = list + [\"pink\"]\n",
    "for colour in updated_colours:\n",
    "    print(colour)"
   ]
  },
  {
   "cell_type": "markdown",
   "id": "e1b630dc",
   "metadata": {},
   "source": [
    "# Defining a function"
   ]
  },
  {
   "cell_type": "code",
   "execution_count": 5,
   "id": "30ff7138-723f-40a6-ba0a-59a3940f7509",
   "metadata": {},
   "outputs": [
    {
     "name": "stdout",
     "output_type": "stream",
     "text": [
      "\n",
      "Fruit list:\n",
      "apple\n",
      "banana\n",
      "orange\n",
      "strawberry\n"
     ]
    }
   ],
   "source": [
    "def print_available_fruits ( ) :\n",
    "    fruits = [\"apple\", \"banana\", \"orange\", \"strawberry\"] \n",
    "    print(\"\\nFruit list:\")\n",
    "    for fruit in fruits:\n",
    "        print(fruit) \n",
    "\n",
    "print_available_fruits()\n"
   ]
  },
  {
   "cell_type": "markdown",
   "id": "655f6b7b",
   "metadata": {},
   "source": [
    "# A mathematical function"
   ]
  },
  {
   "cell_type": "code",
   "execution_count": 8,
   "id": "3d75aefb",
   "metadata": {},
   "outputs": [
    {
     "name": "stdout",
     "output_type": "stream",
     "text": [
      "Iteration number 0 has result = 2\n",
      "Iteration number 1 has result = 4\n",
      "Iteration number 2 has result = 8\n",
      "Iteration number 3 has result = 16\n",
      "Iteration number 4 has result = 32\n",
      "Iteration number 5 has result = 64\n",
      "Iteration number 6 has result = 128\n",
      "Iteration number 7 has result = 256\n",
      "Iteration number 8 has result = 512\n",
      "Iteration number 9 has result = 1024\n",
      "Iteration number 10 has result = 2048\n",
      "Iteration number 11 has result = 4096\n",
      "Iteration number 12 has result = 8192\n",
      "Iteration number 13 has result = 16384\n",
      "Iteration number 14 has result = 32768\n",
      "Iteration number 15 has result = 65536\n"
     ]
    },
    {
     "data": {
      "text/plain": [
       "65536"
      ]
     },
     "execution_count": 8,
     "metadata": {},
     "output_type": "execute_result"
    }
   ],
   "source": [
    "def power (base, exponent) :\n",
    "    result = 1\n",
    "    for index in range(0, exponent) :\n",
    "        result = result * base\n",
    "        print (f\"Iteration number {index} has result = {result}\")\n",
    "    return result \n",
    "\n",
    "power ( 2, 16 )"
   ]
  },
  {
   "cell_type": "markdown",
   "id": "4f932bd1",
   "metadata": {},
   "source": [
    "# Using Python modules"
   ]
  },
  {
   "cell_type": "code",
   "execution_count": 10,
   "id": "d5088bc1",
   "metadata": {},
   "outputs": [
    {
     "name": "stdout",
     "output_type": "stream",
     "text": [
      "Requirement already satisfied: gemmi in /Users/ja905/pyjones/lib/python3.9/site-packages (0.7.1)\n",
      "Requirement already satisfied: numpy in /Users/ja905/pyjones/lib/python3.9/site-packages (2.0.2)\n",
      "Collecting pandas\n",
      "  Downloading pandas-2.3.0-cp39-cp39-macosx_11_0_arm64.whl.metadata (91 kB)\n",
      "Collecting matplotlib\n",
      "  Downloading matplotlib-3.9.4-cp39-cp39-macosx_11_0_arm64.whl.metadata (11 kB)\n",
      "Requirement already satisfied: python-dateutil>=2.8.2 in /Users/ja905/pyjones/lib/python3.9/site-packages (from pandas) (2.9.0.post0)\n",
      "Collecting pytz>=2020.1 (from pandas)\n",
      "  Using cached pytz-2025.2-py2.py3-none-any.whl.metadata (22 kB)\n",
      "Collecting tzdata>=2022.7 (from pandas)\n",
      "  Using cached tzdata-2025.2-py2.py3-none-any.whl.metadata (1.4 kB)\n",
      "Collecting contourpy>=1.0.1 (from matplotlib)\n",
      "  Downloading contourpy-1.3.0-cp39-cp39-macosx_11_0_arm64.whl.metadata (5.4 kB)\n",
      "Collecting cycler>=0.10 (from matplotlib)\n",
      "  Using cached cycler-0.12.1-py3-none-any.whl.metadata (3.8 kB)\n",
      "Collecting fonttools>=4.22.0 (from matplotlib)\n",
      "  Downloading fonttools-4.58.4-cp39-cp39-macosx_10_9_universal2.whl.metadata (106 kB)\n",
      "Collecting kiwisolver>=1.3.1 (from matplotlib)\n",
      "  Downloading kiwisolver-1.4.7-cp39-cp39-macosx_11_0_arm64.whl.metadata (6.3 kB)\n",
      "Requirement already satisfied: packaging>=20.0 in /Users/ja905/pyjones/lib/python3.9/site-packages (from matplotlib) (25.0)\n",
      "Collecting pillow>=8 (from matplotlib)\n",
      "  Downloading pillow-11.2.1-cp39-cp39-macosx_11_0_arm64.whl.metadata (8.9 kB)\n",
      "Requirement already satisfied: pyparsing>=2.3.1 in /Users/ja905/pyjones/lib/python3.9/site-packages (from matplotlib) (3.2.3)\n",
      "Collecting importlib-resources>=3.2.0 (from matplotlib)\n",
      "  Downloading importlib_resources-6.5.2-py3-none-any.whl.metadata (3.9 kB)\n",
      "Requirement already satisfied: zipp>=3.1.0 in /Users/ja905/pyjones/lib/python3.9/site-packages (from importlib-resources>=3.2.0->matplotlib) (3.23.0)\n",
      "Requirement already satisfied: six>=1.5 in /Users/ja905/pyjones/lib/python3.9/site-packages (from python-dateutil>=2.8.2->pandas) (1.17.0)\n",
      "Downloading pandas-2.3.0-cp39-cp39-macosx_11_0_arm64.whl (10.8 MB)\n",
      "\u001b[2K   \u001b[90m━━━━━━━━━━━━━━━━━━━━━━━━━━━━━━━━━━━━━━━━\u001b[0m \u001b[32m10.8/10.8 MB\u001b[0m \u001b[31m42.6 MB/s\u001b[0m eta \u001b[36m0:00:00\u001b[0m \u001b[36m0:00:01\u001b[0m\n",
      "\u001b[?25hDownloading matplotlib-3.9.4-cp39-cp39-macosx_11_0_arm64.whl (7.8 MB)\n",
      "\u001b[2K   \u001b[90m━━━━━━━━━━━━━━━━━━━━━━━━━━━━━━━━━━━━━━━━\u001b[0m \u001b[32m7.8/7.8 MB\u001b[0m \u001b[31m40.8 MB/s\u001b[0m eta \u001b[36m0:00:00\u001b[0m\n",
      "\u001b[?25hDownloading contourpy-1.3.0-cp39-cp39-macosx_11_0_arm64.whl (249 kB)\n",
      "Using cached cycler-0.12.1-py3-none-any.whl (8.3 kB)\n",
      "Downloading fonttools-4.58.4-cp39-cp39-macosx_10_9_universal2.whl (2.8 MB)\n",
      "\u001b[2K   \u001b[90m━━━━━━━━━━━━━━━━━━━━━━━━━━━━━━━━━━━━━━━━\u001b[0m \u001b[32m2.8/2.8 MB\u001b[0m \u001b[31m31.6 MB/s\u001b[0m eta \u001b[36m0:00:00\u001b[0m\n",
      "\u001b[?25hDownloading importlib_resources-6.5.2-py3-none-any.whl (37 kB)\n",
      "Downloading kiwisolver-1.4.7-cp39-cp39-macosx_11_0_arm64.whl (64 kB)\n",
      "Downloading pillow-11.2.1-cp39-cp39-macosx_11_0_arm64.whl (3.0 MB)\n",
      "\u001b[2K   \u001b[90m━━━━━━━━━━━━━━━━━━━━━━━━━━━━━━━━━━━━━━━━\u001b[0m \u001b[32m3.0/3.0 MB\u001b[0m \u001b[31m31.2 MB/s\u001b[0m eta \u001b[36m0:00:00\u001b[0m\n",
      "\u001b[?25hUsing cached pytz-2025.2-py2.py3-none-any.whl (509 kB)\n",
      "Using cached tzdata-2025.2-py2.py3-none-any.whl (347 kB)\n",
      "Installing collected packages: pytz, tzdata, pillow, kiwisolver, importlib-resources, fonttools, cycler, contourpy, pandas, matplotlib\n",
      "\u001b[2K   \u001b[90m━━━━━━━━━━━━━━━━━━━━━━━━━━━━━━━━━━━━━━━━\u001b[0m \u001b[32m10/10\u001b[0m [matplotlib]0\u001b[0m [matplotlib]\n",
      "\u001b[1A\u001b[2KSuccessfully installed contourpy-1.3.0 cycler-0.12.1 fonttools-4.58.4 importlib-resources-6.5.2 kiwisolver-1.4.7 matplotlib-3.9.4 pandas-2.3.0 pillow-11.2.1 pytz-2025.2 tzdata-2025.2\n"
     ]
    }
   ],
   "source": [
    "!pip install gemmi numpy pandas matplotlib "
   ]
  },
  {
   "cell_type": "code",
   "execution_count": 15,
   "id": "25ee2531",
   "metadata": {},
   "outputs": [
    {
     "data": {
      "image/png": "[encoded data removed]",
      "text/plain": [
       "<Figure size 800x400 with 1 Axes>"
      ]
     },
     "metadata": {},
     "output_type": "display_data"
    }
   ],
   "source": [
    "import numpy as np\n",
    "import matplotlib.pyplot as plt\n",
    "\n",
    "# Generate x values from 0 to 2π\n",
    "# comment\n",
    "\n",
    "'''adkfjsal;kdfgjnladkfgjldksfjghlksdfjghlksdjfg\n",
    ";soadfghjladjkfhglksdjfhglkjsdfhglkjdsfhgkjdsfhglkjds\n",
    ";odkfjhgljksdhfglkjsdhfglkjdsflgkhjsdflkgj'''\n",
    "\n",
    "x = np.linspace(0, 2 * np.pi, 25)\n",
    "\n",
    "# Calculate the y values as the sine of x\n",
    "y = np.sin(x)\n",
    "\n",
    "# Create the plot\n",
    "plt.figure(figsize=(8, 4))\n",
    "plt.plot(x, y, label='sin(x)', color='blue', linewidth=2)\n",
    "\n",
    "# Add labels and title\n",
    "plt.title('Sinusoidal Function')\n",
    "plt.xlabel('x (radians)')\n",
    "plt.ylabel('sin(x)')\n",
    "plt.grid(True)\n",
    "plt.legend()\n",
    "\n",
    "# Show the plot\n",
    "plt.show()\n"
   ]
  }
 ],
 "metadata": {
  "kernelspec": {
   "display_name": "Python 3 (ipykernel)",
   "language": "python",
   "name": "python3"
  },
  "language_info": {
   "codemirror_mode": {
    "name": "ipython",
    "version": 3
   },
   "file_extension": ".py",
   "mimetype": "text/x-python",
   "name": "python",
   "nbconvert_exporter": "python",
   "pygments_lexer": "ipython3",
   "version": "3.12.3"
  }
 },
 "nbformat": 4,
 "nbformat_minor": 5
}
