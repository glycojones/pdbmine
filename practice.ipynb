{
 "cells": [
  {
   "cell_type": "markdown",
   "id": "20dff3aa",
   "metadata": {},
   "source": [
    "# Basic Python"
   ]
  },
  {
   "cell_type": "code",
   "execution_count": 6,
   "id": "bd68e55b",
   "metadata": {},
   "outputs": [
    {
     "name": "stdout",
     "output_type": "stream",
     "text": [
      "blue\n",
      "red\n",
      "green\n",
      "yellow\n",
      "purple\n",
      "8\n",
      "\n",
      "Updated colour list with pink:\n",
      "blue\n",
      "red\n",
      "green\n",
      "yellow\n",
      "purple\n",
      "pink\n",
      "\n",
      "Fruit list:\n",
      "apple\n",
      "banana\n",
      "orange\n",
      "strawberry\n"
     ]
    }
   ],
   "source": [
    "list = [\"blue\", \"red\", \"green\", \"yellow\", \"purple\"]\n",
    "for colour in list :\n",
    "    print (colour)\n",
    "a = 5 + 3\n",
    "print(a)\n",
    "\n",
    "# New list of colours with an extra colour\n",
    "print(\"\\nUpdated colour list with pink:\")\n",
    "updated_colours = list + [\"pink\"]\n",
    "for colour in updated_colours:\n",
    "    print(colour)\n",
    "\n",
    "# list of fruits\n",
    "fruits = [\"apple\", \"banana\", \"orange\", \"strawberry\"] \n",
    "print(\"\\nFruit list:\")\n",
    "for fruit in fruits:\n",
    "    print(fruit) "
   ]
  },
  {
   "cell_type": "code",
   "execution_count": null,
   "id": "30ff7138-723f-40a6-ba0a-59a3940f7509",
   "metadata": {},
   "outputs": [],
   "source": []
  }
 ],
 "metadata": {
  "kernelspec": {
   "display_name": "Python 3 (ipykernel)",
   "language": "python",
   "name": "python3"
  },
  "language_info": {
   "codemirror_mode": {
    "name": "ipython",
    "version": 3
   },
   "file_extension": ".py",
   "mimetype": "text/x-python",
   "name": "python",
   "nbconvert_exporter": "python",
   "pygments_lexer": "ipython3",
   "version": "3.12.3"
  }
 },
 "nbformat": 4,
 "nbformat_minor": 5
}
