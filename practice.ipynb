{
 "cells": [
  {
   "cell_type": "markdown",
   "id": "20dff3aa",
   "metadata": {},
   "source": [
    "# Basic Python"
   ]
  },
  {
   "cell_type": "code",
   "execution_count": 4,
   "id": "bd68e55b",
   "metadata": {},
   "outputs": [
    {
     "name": "stdout",
     "output_type": "stream",
     "text": [
      "blue\n",
      "red\n",
      "green\n",
      "yellow\n",
      "purple\n",
      "8\n"
     ]
    }
   ],
   "source": [
    "list = [\"blue\", \"red\", \"green\", \"yellow\", \"purple\"]\n",
    "for colour in list :\n",
    "    print (colour)\n",
    "a = 5 + 3\n",
    "print(a)"
   ]
  }
 ],
 "metadata": {
  "kernelspec": {
   "display_name": "pyjones",
   "language": "python",
   "name": "python3"
  },
  "language_info": {
   "codemirror_mode": {
    "name": "ipython",
    "version": 3
   },
   "file_extension": ".py",
   "mimetype": "text/x-python",
   "name": "python",
   "nbconvert_exporter": "python",
   "pygments_lexer": "ipython3",
   "version": "3.9.18"
  }
 },
 "nbformat": 4,
 "nbformat_minor": 5
}
